{
 "cells": [
  {
   "cell_type": "markdown",
   "id": "ad603bff",
   "metadata": {},
   "source": [
    "# 1번 프로젝트 : 전화번호를 가려주는 프로그램"
   ]
  },
  {
   "cell_type": "markdown",
   "id": "8205e496",
   "metadata": {},
   "source": [
    "## 코드"
   ]
  },
  {
   "cell_type": "code",
   "execution_count": 2,
   "id": "8b864535",
   "metadata": {},
   "outputs": [],
   "source": [
    "def change_num(nums):\n",
    "    answer = nums.replace(nums[-5:], '#####')\n",
    "    return answer"
   ]
  },
  {
   "cell_type": "markdown",
   "id": "76fff5ea",
   "metadata": {},
   "source": [
    "## 실행 예시"
   ]
  },
  {
   "cell_type": "code",
   "execution_count": 3,
   "id": "27c0a461",
   "metadata": {
    "scrolled": true
   },
   "outputs": [
    {
     "data": {
      "text/plain": [
       "'010-1234-#####'"
      ]
     },
     "execution_count": 3,
     "metadata": {},
     "output_type": "execute_result"
    }
   ],
   "source": [
    "change_num(\"010-1234-12345\")"
   ]
  },
  {
   "cell_type": "markdown",
   "id": "8fcf1982",
   "metadata": {},
   "source": [
    "# 2번 프로젝트 : 리스트 평탄화"
   ]
  },
  {
   "cell_type": "markdown",
   "id": "27e41bbd",
   "metadata": {},
   "source": [
    "## 코드"
   ]
  },
  {
   "cell_type": "code",
   "execution_count": 4,
   "id": "06d78a11",
   "metadata": {},
   "outputs": [],
   "source": [
    "def flatten(data):\n",
    "    output = [] \n",
    "    for element in data:\n",
    "        if type(element) == list:\n",
    "            output.extend(flatten(element))\n",
    "        else:\n",
    "            output.append(element)\n",
    "    return output"
   ]
  },
  {
   "cell_type": "markdown",
   "id": "bb8d8060",
   "metadata": {},
   "source": [
    "## 실행 예시"
   ]
  },
  {
   "cell_type": "code",
   "execution_count": 5,
   "id": "a568273c",
   "metadata": {},
   "outputs": [
    {
     "data": {
      "text/plain": [
       "[1, 2, 3, 4, 5, 6, 7, 8, 9]"
      ]
     },
     "execution_count": 5,
     "metadata": {},
     "output_type": "execute_result"
    }
   ],
   "source": [
    "a = [[1, 2], 3, [[4, 5, 6], 7], 8, 9]\n",
    "flatten(a)"
   ]
  },
  {
   "cell_type": "markdown",
   "id": "4e2d56a3",
   "metadata": {},
   "source": [
    "# 3번 프로젝트 : 10 이하의 숫자만 곱해주는 함수"
   ]
  },
  {
   "cell_type": "markdown",
   "id": "bb5269bf",
   "metadata": {},
   "source": [
    "## 코드"
   ]
  },
  {
   "cell_type": "code",
   "execution_count": 6,
   "id": "66360654",
   "metadata": {},
   "outputs": [],
   "source": [
    "def mul(*values):\n",
    "    output = 1\n",
    "    for num in values:\n",
    "        if num <= 10:\n",
    "            output *= num\n",
    "        else:\n",
    "            pass\n",
    "    return output"
   ]
  },
  {
   "cell_type": "markdown",
   "id": "48ec0c94",
   "metadata": {},
   "source": [
    "## 실행 예시"
   ]
  },
  {
   "cell_type": "code",
   "execution_count": 7,
   "id": "c52bf36c",
   "metadata": {
    "scrolled": true
   },
   "outputs": [
    {
     "data": {
      "text/plain": [
       "30"
      ]
     },
     "execution_count": 7,
     "metadata": {},
     "output_type": "execute_result"
    }
   ],
   "source": [
    "mul(3, 12, 10)"
   ]
  },
  {
   "cell_type": "markdown",
   "id": "83c7b134",
   "metadata": {},
   "source": [
    "# 회고\n",
    "\n",
    "### 느낀점\n",
    "사실 이전에 파이썬을 많이 다루어봤고 코딩테스트를 위해 자료구조, 알고리즘 공부를 파이썬을 이용해 한번 해봤기 때문에 크게 어려운 부분은 없었던 것 같다. 다만, 알고리즘 공부는 효율적인 코드를 짜기위한 개발자가 되기 위해 꼭 필요하므로 소홀히 하지 않아야겠다고 생각했다."
   ]
  }
 ],
 "metadata": {
  "kernelspec": {
   "display_name": "Python 3 (ipykernel)",
   "language": "python",
   "name": "python3"
  },
  "language_info": {
   "codemirror_mode": {
    "name": "ipython",
    "version": 3
   },
   "file_extension": ".py",
   "mimetype": "text/x-python",
   "name": "python",
   "nbconvert_exporter": "python",
   "pygments_lexer": "ipython3",
   "version": "3.9.7"
  }
 },
 "nbformat": 4,
 "nbformat_minor": 5
}
