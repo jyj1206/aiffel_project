{
 "cells": [
  {
   "cell_type": "markdown",
   "id": "e4dd864a",
   "metadata": {},
   "source": [
    "# 1번 프로젝트 : 전화번호를 가려주는 프로그램"
   ]
  },
  {
   "cell_type": "markdown",
   "id": "d6609bff",
   "metadata": {},
   "source": [
    "## 코드"
   ]
  },
  {
   "cell_type": "code",
   "execution_count": 13,
   "id": "3139093e",
   "metadata": {},
   "outputs": [],
   "source": [
    "def change_num(nums):\n",
    "    answer = nums.replace(nums[-5:], '#####')\n",
    "    return answer"
   ]
  },
  {
   "cell_type": "markdown",
   "id": "620ae295",
   "metadata": {},
   "source": [
    "## 실행 예시"
   ]
  },
  {
   "cell_type": "code",
   "execution_count": 14,
   "id": "1a070fe9",
   "metadata": {
    "scrolled": true
   },
   "outputs": [
    {
     "data": {
      "text/plain": [
       "'010-1234-#####'"
      ]
     },
     "execution_count": 14,
     "metadata": {},
     "output_type": "execute_result"
    }
   ],
   "source": [
    "change_num(\"010-1234-12345\")"
   ]
  },
  {
   "cell_type": "markdown",
   "id": "c48b13ed",
   "metadata": {},
   "source": [
    "# 2번 프로젝트 : 리스트 평탄화"
   ]
  },
  {
   "cell_type": "markdown",
   "id": "197cb9b5",
   "metadata": {},
   "source": [
    "## 코드"
   ]
  },
  {
   "cell_type": "code",
   "execution_count": 15,
   "id": "c862fd8f",
   "metadata": {},
   "outputs": [],
   "source": [
    "def flatten(data):\n",
    "    output = [] \n",
    "    for element in data:\n",
    "        if type(element) == list:\n",
    "            output.extend(flatten(element))\n",
    "        else:\n",
    "            output.append(element)\n",
    "    return output"
   ]
  },
  {
   "cell_type": "markdown",
   "id": "f6cb732b",
   "metadata": {},
   "source": [
    "## 실행 예시"
   ]
  },
  {
   "cell_type": "code",
   "execution_count": 16,
   "id": "4d404410",
   "metadata": {},
   "outputs": [
    {
     "data": {
      "text/plain": [
       "[1, 2, 3, 4, 5, 6, 7, 8, 9]"
      ]
     },
     "execution_count": 16,
     "metadata": {},
     "output_type": "execute_result"
    }
   ],
   "source": [
    "a = [[1, 2], 3, [[4, 5, 6], 7], 8, 9]\n",
    "flatten(a)"
   ]
  },
  {
   "cell_type": "markdown",
   "id": "25beb3c0",
   "metadata": {},
   "source": [
    "# 3번 프로젝트 : 10 이하의 숫자만 곱해주는 함수"
   ]
  },
  {
   "cell_type": "markdown",
   "id": "7629bf34",
   "metadata": {},
   "source": [
    "## 코드"
   ]
  },
  {
   "cell_type": "code",
   "execution_count": 17,
   "id": "908b3c4d",
   "metadata": {},
   "outputs": [],
   "source": [
    "def mul(*values):\n",
    "    output = 1\n",
    "    for num in values:\n",
    "        if num <= 10:\n",
    "            output *= num\n",
    "        else:\n",
    "            pass\n",
    "    return output"
   ]
  },
  {
   "cell_type": "markdown",
   "id": "c1d6895c",
   "metadata": {},
   "source": [
    "## 실행 예시"
   ]
  },
  {
   "cell_type": "code",
   "execution_count": 18,
   "id": "d609765d",
   "metadata": {
    "scrolled": true
   },
   "outputs": [
    {
     "data": {
      "text/plain": [
       "30"
      ]
     },
     "execution_count": 18,
     "metadata": {},
     "output_type": "execute_result"
    }
   ],
   "source": [
    "mul(3, 12, 10)"
   ]
  }
 ],
 "metadata": {
  "kernelspec": {
   "display_name": "Python 3 (ipykernel)",
   "language": "python",
   "name": "python3"
  },
  "language_info": {
   "codemirror_mode": {
    "name": "ipython",
    "version": 3
   },
   "file_extension": ".py",
   "mimetype": "text/x-python",
   "name": "python",
   "nbconvert_exporter": "python",
   "pygments_lexer": "ipython3",
   "version": "3.9.7"
  }
 },
 "nbformat": 4,
 "nbformat_minor": 5
}
