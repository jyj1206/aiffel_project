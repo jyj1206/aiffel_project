{
 "cells": [
  {
   "cell_type": "markdown",
   "id": "17bad746",
   "metadata": {},
   "source": [
    "# 1번 프로젝트 : 전화번호를 가려주는 프로그램"
   ]
  },
  {
   "cell_type": "markdown",
   "id": "3cf1d457",
   "metadata": {},
   "source": [
    "## 코드"
   ]
  },
  {
   "cell_type": "code",
   "execution_count": 1,
   "id": "7101d51e",
   "metadata": {},
   "outputs": [],
   "source": [
    "def change_num(nums):\n",
    "    answer = nums.replace(nums[-5:], '#####')\n",
    "    return answer"
   ]
  },
  {
   "cell_type": "markdown",
   "id": "a092c6a5",
   "metadata": {},
   "source": [
    "## 실행 예시"
   ]
  },
  {
   "cell_type": "code",
   "execution_count": 2,
   "id": "fca58cec",
   "metadata": {
    "scrolled": true
   },
   "outputs": [
    {
     "data": {
      "text/plain": [
       "'010-1234-#####'"
      ]
     },
     "execution_count": 2,
     "metadata": {},
     "output_type": "execute_result"
    }
   ],
   "source": [
    "change_num(\"010-1234-12345\")"
   ]
  },
  {
   "cell_type": "markdown",
   "id": "3de41705",
   "metadata": {},
   "source": [
    "# 3번 프로젝트 : 10 이하의 숫자만 곱해주는 함수"
   ]
  },
  {
   "cell_type": "markdown",
   "id": "3596c798",
   "metadata": {},
   "source": [
    "## 코드"
   ]
  },
  {
   "cell_type": "code",
   "execution_count": 8,
   "id": "d2c604d0",
   "metadata": {},
   "outputs": [],
   "source": [
    "def mul(*values):\n",
    "    output = 1\n",
    "    for num in values:\n",
    "        if num <= 10:\n",
    "            output *= num\n",
    "        else:\n",
    "            pass\n",
    "    return output"
   ]
  },
  {
   "cell_type": "markdown",
   "id": "ae778745",
   "metadata": {},
   "source": [
    "## 실행 예시"
   ]
  },
  {
   "cell_type": "code",
   "execution_count": 9,
   "id": "54016796",
   "metadata": {
    "scrolled": true
   },
   "outputs": [
    {
     "data": {
      "text/plain": [
       "30"
      ]
     },
     "execution_count": 9,
     "metadata": {},
     "output_type": "execute_result"
    }
   ],
   "source": [
    "mul(3, 12, 10)"
   ]
  }
 ],
 "metadata": {
  "kernelspec": {
   "display_name": "Python 3 (ipykernel)",
   "language": "python",
   "name": "python3"
  },
  "language_info": {
   "codemirror_mode": {
    "name": "ipython",
    "version": 3
   },
   "file_extension": ".py",
   "mimetype": "text/x-python",
   "name": "python",
   "nbconvert_exporter": "python",
   "pygments_lexer": "ipython3",
   "version": "3.9.7"
  }
 },
 "nbformat": 4,
 "nbformat_minor": 5
}
